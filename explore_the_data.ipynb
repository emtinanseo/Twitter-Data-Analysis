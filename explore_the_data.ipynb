{
 "cells": [
  {
   "cell_type": "code",
   "execution_count": 1,
   "metadata": {},
   "outputs": [],
   "source": [
    "import sys\n",
    "import pandas as pd\n",
    "import seaborn as sns\n",
    "import matplotlib.pyplot as plt"
   ]
  },
  {
   "cell_type": "code",
   "execution_count": 2,
   "metadata": {},
   "outputs": [],
   "source": [
    "import extract_dataframe as exdf\n",
    "import clean_tweets_dataframe as cldf"
   ]
  },
  {
   "cell_type": "code",
   "execution_count": 6,
   "metadata": {},
   "outputs": [
    {
     "name": "stdout",
     "output_type": "stream",
     "text": [
      "File Successfully Saved.!!!\n"
     ]
    }
   ],
   "source": [
    "\"\"\"\n",
    "_, global_tweets_data = exdf.read_json('data/global_twitter_data.json')\n",
    "\n",
    "global_tweets = exdf.TweetDfExtractor(global_tweets_data)\n",
    "\n",
    "df_global = global_tweets.get_tweet_df(save = True, file_name = 'data/global_processed_tweets.csv')\n",
    "\n",
    "\"\"\""
   ]
  },
  {
   "cell_type": "code",
   "execution_count": 10,
   "metadata": {},
   "outputs": [
    {
     "name": "stdout",
     "output_type": "stream",
     "text": [
      "File Successfully Saved.!!!\n"
     ]
    }
   ],
   "source": [
    "\"\"\"\n",
    "_, africa_tweets_data = exdf.read_json('data/africa_twitter_data.json')\n",
    "\n",
    "africa_tweets = exdf.TweetDfExtractor(africa_tweets_data)\n",
    "\n",
    "df_africa = africa_tweets.get_tweet_df(save = True, file_name = 'data/africa_processed_tweets.csv')\n",
    "\n",
    "\"\"\""
   ]
  },
  {
   "cell_type": "markdown",
   "metadata": {},
   "source": [
    "# Global Tweets\n",
    "\n",
    "lets first take a look at the global tweets."
   ]
  },
  {
   "cell_type": "code",
   "execution_count": 3,
   "metadata": {},
   "outputs": [],
   "source": [
    "df_global = pd.read_csv('data/global_processed_tweets.csv')"
   ]
  },
  {
   "cell_type": "code",
   "execution_count": 4,
   "metadata": {},
   "outputs": [
    {
     "data": {
      "text/plain": [
       "(22000, 16)"
      ]
     },
     "execution_count": 4,
     "metadata": {},
     "output_type": "execute_result"
    }
   ],
   "source": [
    "df_global.shape"
   ]
  },
  {
   "cell_type": "code",
   "execution_count": 5,
   "metadata": {
    "scrolled": true
   },
   "outputs": [
    {
     "data": {
      "text/html": [
       "<div>\n",
       "<style scoped>\n",
       "    .dataframe tbody tr th:only-of-type {\n",
       "        vertical-align: middle;\n",
       "    }\n",
       "\n",
       "    .dataframe tbody tr th {\n",
       "        vertical-align: top;\n",
       "    }\n",
       "\n",
       "    .dataframe thead th {\n",
       "        text-align: right;\n",
       "    }\n",
       "</style>\n",
       "<table border=\"1\" class=\"dataframe\">\n",
       "  <thead>\n",
       "    <tr style=\"text-align: right;\">\n",
       "      <th></th>\n",
       "      <th>statuses_coun</th>\n",
       "      <th>created_at</th>\n",
       "      <th>source</th>\n",
       "      <th>original_text</th>\n",
       "      <th>polarity</th>\n",
       "      <th>subjectivity</th>\n",
       "      <th>lang</th>\n",
       "      <th>favorite_count</th>\n",
       "      <th>retweet_count</th>\n",
       "      <th>original_author</th>\n",
       "      <th>followers_count</th>\n",
       "      <th>friends_count</th>\n",
       "      <th>possibly_sensitive</th>\n",
       "      <th>hashtags</th>\n",
       "      <th>user_mentions</th>\n",
       "      <th>place</th>\n",
       "    </tr>\n",
       "  </thead>\n",
       "  <tbody>\n",
       "    <tr>\n",
       "      <th>0</th>\n",
       "      <td>8097</td>\n",
       "      <td>Sun Aug 07 22:31:20 +0000 2022</td>\n",
       "      <td>&lt;a href=\"http://twitter.com/download/android\" ...</td>\n",
       "      <td>RT @i_ameztoy: Extra random image (I):\\n\\nLets...</td>\n",
       "      <td>-0.125</td>\n",
       "      <td>0.190625</td>\n",
       "      <td>en</td>\n",
       "      <td>15760</td>\n",
       "      <td>2</td>\n",
       "      <td>i_ameztoy</td>\n",
       "      <td>20497</td>\n",
       "      <td>2621</td>\n",
       "      <td>NaN</td>\n",
       "      <td>[{'text': 'City', 'indices': [132, 137]}]</td>\n",
       "      <td>[{'screen_name': 'i_ameztoy', 'name': 'Iban Am...</td>\n",
       "      <td>NaN</td>\n",
       "    </tr>\n",
       "    <tr>\n",
       "      <th>1</th>\n",
       "      <td>5831</td>\n",
       "      <td>Sun Aug 07 22:31:16 +0000 2022</td>\n",
       "      <td>&lt;a href=\"http://twitter.com/download/android\" ...</td>\n",
       "      <td>RT @IndoPac_Info: #China's media explains the ...</td>\n",
       "      <td>-0.100</td>\n",
       "      <td>0.100000</td>\n",
       "      <td>en</td>\n",
       "      <td>6967</td>\n",
       "      <td>201</td>\n",
       "      <td>ZIisq</td>\n",
       "      <td>65</td>\n",
       "      <td>272</td>\n",
       "      <td>NaN</td>\n",
       "      <td>[{'text': 'China', 'indices': [18, 24]}, {'tex...</td>\n",
       "      <td>[{'screen_name': 'IndoPac_Info', 'name': 'Indo...</td>\n",
       "      <td>NaN</td>\n",
       "    </tr>\n",
       "    <tr>\n",
       "      <th>2</th>\n",
       "      <td>1627</td>\n",
       "      <td>Sun Aug 07 22:31:07 +0000 2022</td>\n",
       "      <td>&lt;a href=\"http://twitter.com/download/android\" ...</td>\n",
       "      <td>China even cut off communication, they don't a...</td>\n",
       "      <td>0.000</td>\n",
       "      <td>0.000000</td>\n",
       "      <td>en</td>\n",
       "      <td>2166</td>\n",
       "      <td>0</td>\n",
       "      <td>Fin21Free</td>\n",
       "      <td>85</td>\n",
       "      <td>392</td>\n",
       "      <td>NaN</td>\n",
       "      <td>[{'text': 'XiJinping', 'indices': [127, 137]}]</td>\n",
       "      <td>[{'screen_name': 'ZelenskyyUa', 'name': 'Волод...</td>\n",
       "      <td>Netherlands</td>\n",
       "    </tr>\n",
       "    <tr>\n",
       "      <th>3</th>\n",
       "      <td>1627</td>\n",
       "      <td>Sun Aug 07 22:31:06 +0000 2022</td>\n",
       "      <td>&lt;a href=\"http://twitter.com/download/android\" ...</td>\n",
       "      <td>Putin to #XiJinping : I told you my friend, Ta...</td>\n",
       "      <td>0.100</td>\n",
       "      <td>0.350000</td>\n",
       "      <td>en</td>\n",
       "      <td>2166</td>\n",
       "      <td>0</td>\n",
       "      <td>Fin21Free</td>\n",
       "      <td>85</td>\n",
       "      <td>392</td>\n",
       "      <td>NaN</td>\n",
       "      <td>[{'text': 'XiJinping', 'indices': [9, 19]}]</td>\n",
       "      <td>[]</td>\n",
       "      <td>Netherlands</td>\n",
       "    </tr>\n",
       "  </tbody>\n",
       "</table>\n",
       "</div>"
      ],
      "text/plain": [
       "   statuses_coun                      created_at  \\\n",
       "0           8097  Sun Aug 07 22:31:20 +0000 2022   \n",
       "1           5831  Sun Aug 07 22:31:16 +0000 2022   \n",
       "2           1627  Sun Aug 07 22:31:07 +0000 2022   \n",
       "3           1627  Sun Aug 07 22:31:06 +0000 2022   \n",
       "\n",
       "                                              source  \\\n",
       "0  <a href=\"http://twitter.com/download/android\" ...   \n",
       "1  <a href=\"http://twitter.com/download/android\" ...   \n",
       "2  <a href=\"http://twitter.com/download/android\" ...   \n",
       "3  <a href=\"http://twitter.com/download/android\" ...   \n",
       "\n",
       "                                       original_text  polarity  subjectivity  \\\n",
       "0  RT @i_ameztoy: Extra random image (I):\\n\\nLets...    -0.125      0.190625   \n",
       "1  RT @IndoPac_Info: #China's media explains the ...    -0.100      0.100000   \n",
       "2  China even cut off communication, they don't a...     0.000      0.000000   \n",
       "3  Putin to #XiJinping : I told you my friend, Ta...     0.100      0.350000   \n",
       "\n",
       "  lang  favorite_count  retweet_count original_author  followers_count  \\\n",
       "0   en           15760              2       i_ameztoy            20497   \n",
       "1   en            6967            201           ZIisq               65   \n",
       "2   en            2166              0       Fin21Free               85   \n",
       "3   en            2166              0       Fin21Free               85   \n",
       "\n",
       "   friends_count possibly_sensitive  \\\n",
       "0           2621                NaN   \n",
       "1            272                NaN   \n",
       "2            392                NaN   \n",
       "3            392                NaN   \n",
       "\n",
       "                                            hashtags  \\\n",
       "0          [{'text': 'City', 'indices': [132, 137]}]   \n",
       "1  [{'text': 'China', 'indices': [18, 24]}, {'tex...   \n",
       "2     [{'text': 'XiJinping', 'indices': [127, 137]}]   \n",
       "3        [{'text': 'XiJinping', 'indices': [9, 19]}]   \n",
       "\n",
       "                                       user_mentions        place  \n",
       "0  [{'screen_name': 'i_ameztoy', 'name': 'Iban Am...          NaN  \n",
       "1  [{'screen_name': 'IndoPac_Info', 'name': 'Indo...          NaN  \n",
       "2  [{'screen_name': 'ZelenskyyUa', 'name': 'Волод...  Netherlands  \n",
       "3                                                 []  Netherlands  "
      ]
     },
     "execution_count": 5,
     "metadata": {},
     "output_type": "execute_result"
    }
   ],
   "source": [
    "df_global.head(4)"
   ]
  },
  {
   "cell_type": "code",
   "execution_count": 6,
   "metadata": {},
   "outputs": [],
   "source": [
    "def sentiment_text(x: float)-> str:\n",
    "    x = round(x, 2)\n",
    "    if x <0:\n",
    "        return \"negative\"\n",
    "    elif x > 0:\n",
    "        return \"positive\"\n",
    "    else:\n",
    "        return \"neutral\""
   ]
  },
  {
   "cell_type": "code",
   "execution_count": 7,
   "metadata": {},
   "outputs": [],
   "source": [
    "df_global[\"sentiment\"] = df_global[\"polarity\"].apply(sentiment_text)"
   ]
  },
  {
   "cell_type": "code",
   "execution_count": 17,
   "metadata": {
    "scrolled": false
   },
   "outputs": [
    {
     "data": {
      "image/png": "[encoded data removed]",
      "text/plain": [
       "<Figure size 1008x720 with 1 Axes>"
      ]
     },
     "metadata": {},
     "output_type": "display_data"
    }
   ],
   "source": [
    "# Distribution of sentiments across all the tweets.\n",
    "sns.set(rc={'figure.figsize':(14,10)})\n",
    "df_global['sentiment'].value_counts().sort_index().plot(kind='pie', \n",
    "                                                     autopct='%1.0f%%', \n",
    "                                                     colors=[\"tab:red\", \"tab:gray\", \"tab:green\"], \n",
    "                                                     textprops={'fontsize': 20})\n",
    "plt.title(\"Sentiment: Global Tweets\", fontsize = 20)\n",
    "plt.savefig(\"global_sentiment.jpg\")"
   ]
  },
  {
   "cell_type": "markdown",
   "metadata": {},
   "source": [
    "# African Tweets\n",
    "\n",
    "Now we consider tweets from Africa."
   ]
  },
  {
   "cell_type": "code",
   "execution_count": 9,
   "metadata": {},
   "outputs": [],
   "source": [
    "df_africa = pd.read_csv('data/africa_processed_tweets.csv')"
   ]
  },
  {
   "cell_type": "code",
   "execution_count": 10,
   "metadata": {},
   "outputs": [
    {
     "data": {
      "text/plain": [
       "(28608, 16)"
      ]
     },
     "execution_count": 10,
     "metadata": {},
     "output_type": "execute_result"
    }
   ],
   "source": [
    "df_africa.shape"
   ]
  },
  {
   "cell_type": "code",
   "execution_count": 11,
   "metadata": {
    "scrolled": false
   },
   "outputs": [
    {
     "data": {
      "text/html": [
       "<div>\n",
       "<style scoped>\n",
       "    .dataframe tbody tr th:only-of-type {\n",
       "        vertical-align: middle;\n",
       "    }\n",
       "\n",
       "    .dataframe tbody tr th {\n",
       "        vertical-align: top;\n",
       "    }\n",
       "\n",
       "    .dataframe thead th {\n",
       "        text-align: right;\n",
       "    }\n",
       "</style>\n",
       "<table border=\"1\" class=\"dataframe\">\n",
       "  <thead>\n",
       "    <tr style=\"text-align: right;\">\n",
       "      <th></th>\n",
       "      <th>statuses_coun</th>\n",
       "      <th>created_at</th>\n",
       "      <th>source</th>\n",
       "      <th>original_text</th>\n",
       "      <th>polarity</th>\n",
       "      <th>subjectivity</th>\n",
       "      <th>lang</th>\n",
       "      <th>favorite_count</th>\n",
       "      <th>retweet_count</th>\n",
       "      <th>original_author</th>\n",
       "      <th>followers_count</th>\n",
       "      <th>friends_count</th>\n",
       "      <th>possibly_sensitive</th>\n",
       "      <th>hashtags</th>\n",
       "      <th>user_mentions</th>\n",
       "      <th>place</th>\n",
       "    </tr>\n",
       "  </thead>\n",
       "  <tbody>\n",
       "    <tr>\n",
       "      <th>0</th>\n",
       "      <td>888</td>\n",
       "      <td>Wed Aug 03 20:19:13 +0000 2022</td>\n",
       "      <td>&lt;a href=\"http://twitter.com/download/android\" ...</td>\n",
       "      <td>#Pelosi airplane landed safely in #Taiwan 🇹🇼  ...</td>\n",
       "      <td>0.300000</td>\n",
       "      <td>0.203571</td>\n",
       "      <td>en</td>\n",
       "      <td>697</td>\n",
       "      <td>0</td>\n",
       "      <td>DzCritical</td>\n",
       "      <td>318</td>\n",
       "      <td>373</td>\n",
       "      <td>NaN</td>\n",
       "      <td>[{'text': 'Pelosi', 'indices': [0, 7]}, {'text...</td>\n",
       "      <td>[]</td>\n",
       "      <td>Algérie</td>\n",
       "    </tr>\n",
       "    <tr>\n",
       "      <th>1</th>\n",
       "      <td>1597</td>\n",
       "      <td>Tue Aug 02 15:24:42 +0000 2022</td>\n",
       "      <td>&lt;a href=\"https://mobile.twitter.com\" rel=\"nofo...</td>\n",
       "      <td>Watch the video of the beginning of the Chines...</td>\n",
       "      <td>0.000000</td>\n",
       "      <td>0.000000</td>\n",
       "      <td>en</td>\n",
       "      <td>2160</td>\n",
       "      <td>0</td>\n",
       "      <td>toopsat</td>\n",
       "      <td>764</td>\n",
       "      <td>144</td>\n",
       "      <td>False</td>\n",
       "      <td>[{'text': 'Pelosi', 'indices': [149, 156]}, {'...</td>\n",
       "      <td>[]</td>\n",
       "      <td>NaN</td>\n",
       "    </tr>\n",
       "    <tr>\n",
       "      <th>2</th>\n",
       "      <td>2293</td>\n",
       "      <td>Tue Aug 02 15:02:35 +0000 2022</td>\n",
       "      <td>&lt;a href=\"http://twitter.com/download/android\" ...</td>\n",
       "      <td>#Pelosi \\n#Taipei \\n#taiwan\\n#XiJinping \\n#Chi...</td>\n",
       "      <td>0.000000</td>\n",
       "      <td>0.000000</td>\n",
       "      <td>en</td>\n",
       "      <td>10841</td>\n",
       "      <td>0</td>\n",
       "      <td>NassimaLilEmy</td>\n",
       "      <td>64</td>\n",
       "      <td>47</td>\n",
       "      <td>False</td>\n",
       "      <td>[{'text': 'Pelosi', 'indices': [0, 7]}, {'text...</td>\n",
       "      <td>[]</td>\n",
       "      <td>Algérie</td>\n",
       "    </tr>\n",
       "    <tr>\n",
       "      <th>3</th>\n",
       "      <td>44</td>\n",
       "      <td>Mon Aug 01 13:51:42 +0000 2022</td>\n",
       "      <td>&lt;a href=\"http://twitter.com/download/android\" ...</td>\n",
       "      <td>#HOBIPALOOZA #LaAcademiaExpulsion #WEURO2022 #...</td>\n",
       "      <td>0.433333</td>\n",
       "      <td>0.733333</td>\n",
       "      <td>en</td>\n",
       "      <td>280</td>\n",
       "      <td>0</td>\n",
       "      <td>d_dhayae</td>\n",
       "      <td>60</td>\n",
       "      <td>463</td>\n",
       "      <td>False</td>\n",
       "      <td>[{'text': 'HOBIPALOOZA', 'indices': [0, 12]}, ...</td>\n",
       "      <td>[]</td>\n",
       "      <td>Chlef</td>\n",
       "    </tr>\n",
       "  </tbody>\n",
       "</table>\n",
       "</div>"
      ],
      "text/plain": [
       "   statuses_coun                      created_at  \\\n",
       "0            888  Wed Aug 03 20:19:13 +0000 2022   \n",
       "1           1597  Tue Aug 02 15:24:42 +0000 2022   \n",
       "2           2293  Tue Aug 02 15:02:35 +0000 2022   \n",
       "3             44  Mon Aug 01 13:51:42 +0000 2022   \n",
       "\n",
       "                                              source  \\\n",
       "0  <a href=\"http://twitter.com/download/android\" ...   \n",
       "1  <a href=\"https://mobile.twitter.com\" rel=\"nofo...   \n",
       "2  <a href=\"http://twitter.com/download/android\" ...   \n",
       "3  <a href=\"http://twitter.com/download/android\" ...   \n",
       "\n",
       "                                       original_text  polarity  subjectivity  \\\n",
       "0  #Pelosi airplane landed safely in #Taiwan 🇹🇼  ...  0.300000      0.203571   \n",
       "1  Watch the video of the beginning of the Chines...  0.000000      0.000000   \n",
       "2  #Pelosi \\n#Taipei \\n#taiwan\\n#XiJinping \\n#Chi...  0.000000      0.000000   \n",
       "3  #HOBIPALOOZA #LaAcademiaExpulsion #WEURO2022 #...  0.433333      0.733333   \n",
       "\n",
       "  lang  favorite_count  retweet_count original_author  followers_count  \\\n",
       "0   en             697              0      DzCritical              318   \n",
       "1   en            2160              0         toopsat              764   \n",
       "2   en           10841              0   NassimaLilEmy               64   \n",
       "3   en             280              0        d_dhayae               60   \n",
       "\n",
       "   friends_count possibly_sensitive  \\\n",
       "0            373                NaN   \n",
       "1            144              False   \n",
       "2             47              False   \n",
       "3            463              False   \n",
       "\n",
       "                                            hashtags user_mentions  \\\n",
       "0  [{'text': 'Pelosi', 'indices': [0, 7]}, {'text...            []   \n",
       "1  [{'text': 'Pelosi', 'indices': [149, 156]}, {'...            []   \n",
       "2  [{'text': 'Pelosi', 'indices': [0, 7]}, {'text...            []   \n",
       "3  [{'text': 'HOBIPALOOZA', 'indices': [0, 12]}, ...            []   \n",
       "\n",
       "                            place  \n",
       "0                         Algérie  \n",
       "1                             NaN  \n",
       "2                         Algérie  \n",
       "3  Chlef                           "
      ]
     },
     "execution_count": 11,
     "metadata": {},
     "output_type": "execute_result"
    }
   ],
   "source": [
    "df_africa.head(4)"
   ]
  },
  {
   "cell_type": "code",
   "execution_count": 12,
   "metadata": {},
   "outputs": [],
   "source": [
    "df_africa[\"sentiment\"] = df_africa[\"polarity\"].apply(sentiment_text)"
   ]
  },
  {
   "cell_type": "code",
   "execution_count": 18,
   "metadata": {
    "scrolled": false
   },
   "outputs": [
    {
     "data": {
      "image/png": "[encoded data removed]",
      "text/plain": [
       "<Figure size 1008x720 with 1 Axes>"
      ]
     },
     "metadata": {},
     "output_type": "display_data"
    }
   ],
   "source": [
    "# Distribution of sentiments across all the tweets.\n",
    "sns.set(rc={'figure.figsize':(14,10)})\n",
    "df_africa.sentiment.value_counts().sort_index().plot(kind='pie', \n",
    "                                                     autopct='%1.0f%%', \n",
    "                                                     colors=[\"tab:red\", \"tab:gray\", \"tab:green\"], \n",
    "                                                     textprops={'fontsize': 20})\n",
    "plt.title(\"Sentiment: African Tweets\", fontsize= 20)\n",
    "plt.savefig(\"africa_sentiment.jpg\")"
   ]
  },
  {
   "cell_type": "code",
   "execution_count": null,
   "metadata": {},
   "outputs": [],
   "source": []
  }
 ],
 "metadata": {
  "kernelspec": {
   "display_name": "Python 3",
   "language": "python",
   "name": "python3"
  },
  "language_info": {
   "codemirror_mode": {
    "name": "ipython",
    "version": 3
   },
   "file_extension": ".py",
   "mimetype": "text/x-python",
   "name": "python",
   "nbconvert_exporter": "python",
   "pygments_lexer": "ipython3",
   "version": "3.8.5"
  }
 },
 "nbformat": 4,
 "nbformat_minor": 4
}
