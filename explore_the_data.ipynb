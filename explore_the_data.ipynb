{
 "cells": [
  {
   "cell_type": "code",
   "execution_count": 1,
   "metadata": {},
   "outputs": [],
   "source": [
    "import sys\n",
    "import pandas as pd\n",
    "import seaborn as sns\n",
    "import matplotlib.pyplot as plt\n",
    "import string\n",
    "from textblob import TextBlob"
   ]
  },
  {
   "cell_type": "code",
   "execution_count": 2,
   "metadata": {},
   "outputs": [],
   "source": [
    "import extract_dataframe as exdf\n",
    "import clean_tweets_dataframe as cldf"
   ]
  },
  {
   "cell_type": "markdown",
   "metadata": {},
   "source": [
    "\"\"\"\n",
    "_, global_tweets_data = exdf.read_json('data/global_twitter_data.json')\n",
    "\n",
    "global_tweets = exdf.TweetDfExtractor(global_tweets_data)\n",
    "\n",
    "df_global = global_tweets.get_tweet_df(save = True, file_name = 'data/global_processed_tweets.csv')\n",
    "\n",
    "\"\"\""
   ]
  },
  {
   "cell_type": "markdown",
   "metadata": {},
   "source": [
    "\"\"\"\n",
    "_, africa_tweets_data = exdf.read_json('data/africa_twitter_data.json')\n",
    "\n",
    "africa_tweets = exdf.TweetDfExtractor(africa_tweets_data)\n",
    "\n",
    "df_africa = africa_tweets.get_tweet_df(save = True, file_name = 'data/africa_processed_tweets.csv')\n",
    "\n",
    "\"\"\""
   ]
  },
  {
   "cell_type": "markdown",
   "metadata": {},
   "source": [
    "# Global Tweets\n",
    "\n",
    "lets first take a look at the global tweets."
   ]
  },
  {
   "cell_type": "markdown",
   "metadata": {},
   "source": [
    "1. Load the data"
   ]
  },
  {
   "cell_type": "code",
   "execution_count": 3,
   "metadata": {},
   "outputs": [],
   "source": [
    "df_global = pd.read_csv('data/global_processed_tweets.csv')"
   ]
  },
  {
   "cell_type": "markdown",
   "metadata": {},
   "source": [
    "2. Explore the data"
   ]
  },
  {
   "cell_type": "code",
   "execution_count": 4,
   "metadata": {},
   "outputs": [
    {
     "data": {
      "text/plain": [
       "(22000, 16)"
      ]
     },
     "execution_count": 4,
     "metadata": {},
     "output_type": "execute_result"
    }
   ],
   "source": [
    "df_global.shape"
   ]
  },
  {
   "cell_type": "code",
   "execution_count": 5,
   "metadata": {},
   "outputs": [
    {
     "data": {
      "text/html": [
       "<div>\n",
       "<style scoped>\n",
       "    .dataframe tbody tr th:only-of-type {\n",
       "        vertical-align: middle;\n",
       "    }\n",
       "\n",
       "    .dataframe tbody tr th {\n",
       "        vertical-align: top;\n",
       "    }\n",
       "\n",
       "    .dataframe thead th {\n",
       "        text-align: right;\n",
       "    }\n",
       "</style>\n",
       "<table border=\"1\" class=\"dataframe\">\n",
       "  <thead>\n",
       "    <tr style=\"text-align: right;\">\n",
       "      <th></th>\n",
       "      <th>statuses_coun</th>\n",
       "      <th>created_at</th>\n",
       "      <th>source</th>\n",
       "      <th>original_text</th>\n",
       "      <th>polarity</th>\n",
       "      <th>subjectivity</th>\n",
       "      <th>lang</th>\n",
       "      <th>favorite_count</th>\n",
       "      <th>retweet_count</th>\n",
       "      <th>original_author</th>\n",
       "      <th>followers_count</th>\n",
       "      <th>friends_count</th>\n",
       "      <th>possibly_sensitive</th>\n",
       "      <th>hashtags</th>\n",
       "      <th>user_mentions</th>\n",
       "      <th>place</th>\n",
       "    </tr>\n",
       "  </thead>\n",
       "  <tbody>\n",
       "    <tr>\n",
       "      <th>0</th>\n",
       "      <td>8097</td>\n",
       "      <td>Sun Aug 07 22:31:20 +0000 2022</td>\n",
       "      <td>&lt;a href=\"http://twitter.com/download/android\" ...</td>\n",
       "      <td>RT @i_ameztoy: Extra random image (I):\\n\\nLets...</td>\n",
       "      <td>-0.125</td>\n",
       "      <td>0.190625</td>\n",
       "      <td>en</td>\n",
       "      <td>15760</td>\n",
       "      <td>2</td>\n",
       "      <td>i_ameztoy</td>\n",
       "      <td>20497</td>\n",
       "      <td>2621</td>\n",
       "      <td>NaN</td>\n",
       "      <td>[{'text': 'City', 'indices': [132, 137]}]</td>\n",
       "      <td>[{'screen_name': 'i_ameztoy', 'name': 'Iban Am...</td>\n",
       "      <td>NaN</td>\n",
       "    </tr>\n",
       "    <tr>\n",
       "      <th>1</th>\n",
       "      <td>5831</td>\n",
       "      <td>Sun Aug 07 22:31:16 +0000 2022</td>\n",
       "      <td>&lt;a href=\"http://twitter.com/download/android\" ...</td>\n",
       "      <td>RT @IndoPac_Info: #China's media explains the ...</td>\n",
       "      <td>-0.100</td>\n",
       "      <td>0.100000</td>\n",
       "      <td>en</td>\n",
       "      <td>6967</td>\n",
       "      <td>201</td>\n",
       "      <td>ZIisq</td>\n",
       "      <td>65</td>\n",
       "      <td>272</td>\n",
       "      <td>NaN</td>\n",
       "      <td>[{'text': 'China', 'indices': [18, 24]}, {'tex...</td>\n",
       "      <td>[{'screen_name': 'IndoPac_Info', 'name': 'Indo...</td>\n",
       "      <td>NaN</td>\n",
       "    </tr>\n",
       "    <tr>\n",
       "      <th>2</th>\n",
       "      <td>1627</td>\n",
       "      <td>Sun Aug 07 22:31:07 +0000 2022</td>\n",
       "      <td>&lt;a href=\"http://twitter.com/download/android\" ...</td>\n",
       "      <td>China even cut off communication, they don't a...</td>\n",
       "      <td>0.000</td>\n",
       "      <td>0.000000</td>\n",
       "      <td>en</td>\n",
       "      <td>2166</td>\n",
       "      <td>0</td>\n",
       "      <td>Fin21Free</td>\n",
       "      <td>85</td>\n",
       "      <td>392</td>\n",
       "      <td>NaN</td>\n",
       "      <td>[{'text': 'XiJinping', 'indices': [127, 137]}]</td>\n",
       "      <td>[{'screen_name': 'ZelenskyyUa', 'name': 'Волод...</td>\n",
       "      <td>Netherlands</td>\n",
       "    </tr>\n",
       "    <tr>\n",
       "      <th>3</th>\n",
       "      <td>1627</td>\n",
       "      <td>Sun Aug 07 22:31:06 +0000 2022</td>\n",
       "      <td>&lt;a href=\"http://twitter.com/download/android\" ...</td>\n",
       "      <td>Putin to #XiJinping : I told you my friend, Ta...</td>\n",
       "      <td>0.100</td>\n",
       "      <td>0.350000</td>\n",
       "      <td>en</td>\n",
       "      <td>2166</td>\n",
       "      <td>0</td>\n",
       "      <td>Fin21Free</td>\n",
       "      <td>85</td>\n",
       "      <td>392</td>\n",
       "      <td>NaN</td>\n",
       "      <td>[{'text': 'XiJinping', 'indices': [9, 19]}]</td>\n",
       "      <td>[]</td>\n",
       "      <td>Netherlands</td>\n",
       "    </tr>\n",
       "  </tbody>\n",
       "</table>\n",
       "</div>"
      ],
      "text/plain": [
       "   statuses_coun                      created_at  \\\n",
       "0           8097  Sun Aug 07 22:31:20 +0000 2022   \n",
       "1           5831  Sun Aug 07 22:31:16 +0000 2022   \n",
       "2           1627  Sun Aug 07 22:31:07 +0000 2022   \n",
       "3           1627  Sun Aug 07 22:31:06 +0000 2022   \n",
       "\n",
       "                                              source  \\\n",
       "0  <a href=\"http://twitter.com/download/android\" ...   \n",
       "1  <a href=\"http://twitter.com/download/android\" ...   \n",
       "2  <a href=\"http://twitter.com/download/android\" ...   \n",
       "3  <a href=\"http://twitter.com/download/android\" ...   \n",
       "\n",
       "                                       original_text  polarity  subjectivity  \\\n",
       "0  RT @i_ameztoy: Extra random image (I):\\n\\nLets...    -0.125      0.190625   \n",
       "1  RT @IndoPac_Info: #China's media explains the ...    -0.100      0.100000   \n",
       "2  China even cut off communication, they don't a...     0.000      0.000000   \n",
       "3  Putin to #XiJinping : I told you my friend, Ta...     0.100      0.350000   \n",
       "\n",
       "  lang  favorite_count  retweet_count original_author  followers_count  \\\n",
       "0   en           15760              2       i_ameztoy            20497   \n",
       "1   en            6967            201           ZIisq               65   \n",
       "2   en            2166              0       Fin21Free               85   \n",
       "3   en            2166              0       Fin21Free               85   \n",
       "\n",
       "   friends_count possibly_sensitive  \\\n",
       "0           2621                NaN   \n",
       "1            272                NaN   \n",
       "2            392                NaN   \n",
       "3            392                NaN   \n",
       "\n",
       "                                            hashtags  \\\n",
       "0          [{'text': 'City', 'indices': [132, 137]}]   \n",
       "1  [{'text': 'China', 'indices': [18, 24]}, {'tex...   \n",
       "2     [{'text': 'XiJinping', 'indices': [127, 137]}]   \n",
       "3        [{'text': 'XiJinping', 'indices': [9, 19]}]   \n",
       "\n",
       "                                       user_mentions        place  \n",
       "0  [{'screen_name': 'i_ameztoy', 'name': 'Iban Am...          NaN  \n",
       "1  [{'screen_name': 'IndoPac_Info', 'name': 'Indo...          NaN  \n",
       "2  [{'screen_name': 'ZelenskyyUa', 'name': 'Волод...  Netherlands  \n",
       "3                                                 []  Netherlands  "
      ]
     },
     "execution_count": 5,
     "metadata": {},
     "output_type": "execute_result"
    }
   ],
   "source": [
    "df_global.head(4)"
   ]
  },
  {
   "cell_type": "code",
   "execution_count": 6,
   "metadata": {
    "scrolled": false
   },
   "outputs": [
    {
     "name": "stdout",
     "output_type": "stream",
     "text": [
      "<class 'pandas.core.frame.DataFrame'>\n",
      "RangeIndex: 22000 entries, 0 to 21999\n",
      "Data columns (total 16 columns):\n",
      " #   Column              Non-Null Count  Dtype  \n",
      "---  ------              --------------  -----  \n",
      " 0   statuses_coun       22000 non-null  int64  \n",
      " 1   created_at          22000 non-null  object \n",
      " 2   source              22000 non-null  object \n",
      " 3   original_text       22000 non-null  object \n",
      " 4   polarity            22000 non-null  float64\n",
      " 5   subjectivity        22000 non-null  float64\n",
      " 6   lang                22000 non-null  object \n",
      " 7   favorite_count      22000 non-null  int64  \n",
      " 8   retweet_count       22000 non-null  int64  \n",
      " 9   original_author     22000 non-null  object \n",
      " 10  followers_count     22000 non-null  int64  \n",
      " 11  friends_count       22000 non-null  int64  \n",
      " 12  possibly_sensitive  6191 non-null   object \n",
      " 13  hashtags            22000 non-null  object \n",
      " 14  user_mentions       22000 non-null  object \n",
      " 15  place               12107 non-null  object \n",
      "dtypes: float64(2), int64(5), object(9)\n",
      "memory usage: 2.7+ MB\n"
     ]
    }
   ],
   "source": [
    "# .info() Gives a quick look at the data in the datafarme shape, datatypes and missing data\n",
    "\n",
    "df_global.info()"
   ]
  },
  {
   "cell_type": "code",
   "execution_count": 7,
   "metadata": {},
   "outputs": [],
   "source": [
    "# drop duplicates\n",
    "\n",
    "df_global.drop_duplicates(inplace=True)\n",
    "\n",
    "\n",
    "# drop tweets that are from unknown locations\n",
    "\n",
    "df_global.dropna(subset=['place'], inplace=True)\n",
    "\n",
    "\n",
    "# languages: all the tweets are in english\n",
    "\n",
    "df_global = df_global[df_global['lang'] == 'en']"
   ]
  },
  {
   "cell_type": "code",
   "execution_count": 8,
   "metadata": {},
   "outputs": [],
   "source": [
    "# reset the indices to start from 0, 1, ...\n",
    "\n",
    "df_global.reset_index(drop=True, inplace=True)"
   ]
  },
  {
   "cell_type": "code",
   "execution_count": 9,
   "metadata": {},
   "outputs": [
    {
     "data": {
      "text/html": [
       "<div>\n",
       "<style scoped>\n",
       "    .dataframe tbody tr th:only-of-type {\n",
       "        vertical-align: middle;\n",
       "    }\n",
       "\n",
       "    .dataframe tbody tr th {\n",
       "        vertical-align: top;\n",
       "    }\n",
       "\n",
       "    .dataframe thead th {\n",
       "        text-align: right;\n",
       "    }\n",
       "</style>\n",
       "<table border=\"1\" class=\"dataframe\">\n",
       "  <thead>\n",
       "    <tr style=\"text-align: right;\">\n",
       "      <th></th>\n",
       "      <th>statuses_coun</th>\n",
       "      <th>polarity</th>\n",
       "      <th>subjectivity</th>\n",
       "      <th>favorite_count</th>\n",
       "      <th>retweet_count</th>\n",
       "      <th>followers_count</th>\n",
       "      <th>friends_count</th>\n",
       "    </tr>\n",
       "  </thead>\n",
       "  <tbody>\n",
       "    <tr>\n",
       "      <th>count</th>\n",
       "      <td>1.210600e+04</td>\n",
       "      <td>12106.000000</td>\n",
       "      <td>12106.000000</td>\n",
       "      <td>1.210600e+04</td>\n",
       "      <td>12106.000000</td>\n",
       "      <td>1.210600e+04</td>\n",
       "      <td>12106.000000</td>\n",
       "    </tr>\n",
       "    <tr>\n",
       "      <th>mean</th>\n",
       "      <td>6.789020e+04</td>\n",
       "      <td>0.061398</td>\n",
       "      <td>0.284090</td>\n",
       "      <td>4.375276e+04</td>\n",
       "      <td>168.805716</td>\n",
       "      <td>2.919568e+04</td>\n",
       "      <td>2029.471171</td>\n",
       "    </tr>\n",
       "    <tr>\n",
       "      <th>std</th>\n",
       "      <td>1.708511e+05</td>\n",
       "      <td>0.226423</td>\n",
       "      <td>0.289589</td>\n",
       "      <td>9.978165e+04</td>\n",
       "      <td>512.721586</td>\n",
       "      <td>4.011366e+05</td>\n",
       "      <td>5290.088104</td>\n",
       "    </tr>\n",
       "    <tr>\n",
       "      <th>min</th>\n",
       "      <td>1.000000e+00</td>\n",
       "      <td>-1.000000</td>\n",
       "      <td>0.000000</td>\n",
       "      <td>0.000000e+00</td>\n",
       "      <td>0.000000</td>\n",
       "      <td>0.000000e+00</td>\n",
       "      <td>0.000000</td>\n",
       "    </tr>\n",
       "    <tr>\n",
       "      <th>25%</th>\n",
       "      <td>3.547250e+03</td>\n",
       "      <td>0.000000</td>\n",
       "      <td>0.000000</td>\n",
       "      <td>1.554500e+03</td>\n",
       "      <td>2.000000</td>\n",
       "      <td>1.260000e+02</td>\n",
       "      <td>232.000000</td>\n",
       "    </tr>\n",
       "    <tr>\n",
       "      <th>50%</th>\n",
       "      <td>1.626550e+04</td>\n",
       "      <td>0.000000</td>\n",
       "      <td>0.207702</td>\n",
       "      <td>1.078800e+04</td>\n",
       "      <td>27.000000</td>\n",
       "      <td>5.435000e+02</td>\n",
       "      <td>744.000000</td>\n",
       "    </tr>\n",
       "    <tr>\n",
       "      <th>75%</th>\n",
       "      <td>5.588125e+04</td>\n",
       "      <td>0.133333</td>\n",
       "      <td>0.483333</td>\n",
       "      <td>4.236150e+04</td>\n",
       "      <td>173.000000</td>\n",
       "      <td>2.175750e+03</td>\n",
       "      <td>2246.750000</td>\n",
       "    </tr>\n",
       "    <tr>\n",
       "      <th>max</th>\n",
       "      <td>4.108317e+06</td>\n",
       "      <td>1.000000</td>\n",
       "      <td>1.000000</td>\n",
       "      <td>1.717879e+06</td>\n",
       "      <td>17409.000000</td>\n",
       "      <td>1.449852e+07</td>\n",
       "      <td>208360.000000</td>\n",
       "    </tr>\n",
       "  </tbody>\n",
       "</table>\n",
       "</div>"
      ],
      "text/plain": [
       "       statuses_coun      polarity  subjectivity  favorite_count  \\\n",
       "count   1.210600e+04  12106.000000  12106.000000    1.210600e+04   \n",
       "mean    6.789020e+04      0.061398      0.284090    4.375276e+04   \n",
       "std     1.708511e+05      0.226423      0.289589    9.978165e+04   \n",
       "min     1.000000e+00     -1.000000      0.000000    0.000000e+00   \n",
       "25%     3.547250e+03      0.000000      0.000000    1.554500e+03   \n",
       "50%     1.626550e+04      0.000000      0.207702    1.078800e+04   \n",
       "75%     5.588125e+04      0.133333      0.483333    4.236150e+04   \n",
       "max     4.108317e+06      1.000000      1.000000    1.717879e+06   \n",
       "\n",
       "       retweet_count  followers_count  friends_count  \n",
       "count   12106.000000     1.210600e+04   12106.000000  \n",
       "mean      168.805716     2.919568e+04    2029.471171  \n",
       "std       512.721586     4.011366e+05    5290.088104  \n",
       "min         0.000000     0.000000e+00       0.000000  \n",
       "25%         2.000000     1.260000e+02     232.000000  \n",
       "50%        27.000000     5.435000e+02     744.000000  \n",
       "75%       173.000000     2.175750e+03    2246.750000  \n",
       "max     17409.000000     1.449852e+07  208360.000000  "
      ]
     },
     "execution_count": 9,
     "metadata": {},
     "output_type": "execute_result"
    }
   ],
   "source": [
    "# get some descriptive statistics on the data\n",
    "\n",
    "df_global.describe()"
   ]
  },
  {
   "cell_type": "code",
   "execution_count": 10,
   "metadata": {
    "scrolled": false
   },
   "outputs": [
    {
     "data": {
      "text/plain": [
       "India              200\n",
       "United States      166\n",
       "Hong Kong          152\n",
       "Việt Nam           118\n",
       "Taiwan              99\n",
       "USA                 95\n",
       "New York, USA       84\n",
       "Taipei, Taiwan      75\n",
       "Pakistan            70\n",
       "London, England     69\n",
       "Name: place, dtype: int64"
      ]
     },
     "execution_count": 10,
     "metadata": {},
     "output_type": "execute_result"
    }
   ],
   "source": [
    "\"\"\"\n",
    "df_global.drop(columns = ['statuses_coun', 'polarity', 'subjectivity', 'favorite_count', 'retweet_count', \n",
    "                   'followers_count', 'friends_count']).describe()\n",
    "\"\"\"\n",
    "\n",
    "#most frequent locations\n",
    "\n",
    "df_global['place'].value_counts().head(10)"
   ]
  },
  {
   "cell_type": "markdown",
   "metadata": {},
   "source": [
    "3. Clean the text"
   ]
  },
  {
   "cell_type": "code",
   "execution_count": 11,
   "metadata": {},
   "outputs": [
    {
     "data": {
      "text/plain": [
       "0        China even cut off communication, they don't a...\n",
       "1        Putin to #XiJinping : I told you my friend, Ta...\n",
       "2        RT @ChinaUncensored: I’m sorry, I thought Taiw...\n",
       "3        RT @benedictrogers: We must not let this happe...\n",
       "4        RT @ChinaInfo777: #PinkFloyd singer Roger Wate...\n",
       "                               ...                        \n",
       "12101    Reports say that #China is planning to seize #...\n",
       "12102    RT @ChinaDaily: #QuotesInNews Chinese State Co...\n",
       "12103    RT @IndoPac_Info: A good infographic of #China...\n",
       "12104                  @Reuters Thanks #Pelosi smart move.\n",
       "12105    RT @IndoPac_Info: #Taiwan people's Desire for ...\n",
       "Name: original_text, Length: 12106, dtype: object"
      ]
     },
     "execution_count": 11,
     "metadata": {},
     "output_type": "execute_result"
    }
   ],
   "source": [
    "df_global['original_text']"
   ]
  },
  {
   "cell_type": "code",
   "execution_count": 12,
   "metadata": {},
   "outputs": [],
   "source": [
    "df_global['clean_text'] = df_global['original_text'].astype(str)\n",
    "df_global['clean_text'] = df_global['clean_text'].apply(lambda x: x.lower())\n",
    "df_global['clean_text']= df_global['clean_text'].apply(lambda x: x.translate(str.maketrans(' ', ' ', string.punctuation)))"
   ]
  },
  {
   "cell_type": "code",
   "execution_count": 40,
   "metadata": {},
   "outputs": [],
   "source": [
    "blob_list = [TextBlob(x) for x in df_global['clean_text']]\n",
    "\n",
    "pol_list = [x.sentiment.polarity for x in blob_list]\n",
    "subj_list = [x.sentiment.subjectivity for x in blob_list]"
   ]
  },
  {
   "cell_type": "code",
   "execution_count": 42,
   "metadata": {},
   "outputs": [],
   "source": [
    "df_global['cln_polarity'] = pol_list\n",
    "df_global['cln_subjectivity'] = subj_list"
   ]
  },
  {
   "cell_type": "code",
   "execution_count": 47,
   "metadata": {},
   "outputs": [],
   "source": [
    "def sentiment_text(x: float)-> str:\n",
    "    x = round(x, 2)\n",
    "    if x <0:\n",
    "        return \"negative\"\n",
    "    elif x > 0:\n",
    "        return \"positive\"\n",
    "    else:\n",
    "        return \"neutral\""
   ]
  },
  {
   "cell_type": "code",
   "execution_count": 48,
   "metadata": {},
   "outputs": [
    {
     "data": {
      "image/png": "[encoded data removed]",
      "text/plain": [
       "<Figure size 1008x720 with 1 Axes>"
      ]
     },
     "metadata": {},
     "output_type": "display_data"
    }
   ],
   "source": [
    "df_global[\"sentiment\"] = df_global[\"cln_polarity\"].apply(sentiment_text)\n",
    "\n",
    "# Distribution of sentiments across all the tweets.\n",
    "sns.set(rc={'figure.figsize':(14,10)})\n",
    "df_global['sentiment'].value_counts().sort_index().plot(kind='pie', \n",
    "                                                     autopct='%1.0f%%', \n",
    "                                                     colors=[\"tab:red\", \"tab:gray\", \"tab:green\"], \n",
    "                                                     textprops={'fontsize': 20})\n",
    "plt.title(\"Sentiment: Global Tweets\", fontsize = 20)\n",
    "plt.savefig(\"global_sentiment.jpg\")\n"
   ]
  },
  {
   "cell_type": "markdown",
   "metadata": {},
   "source": [
    "# African Tweets\n",
    "\n",
    "Now we consider tweets from Africa."
   ]
  },
  {
   "cell_type": "code",
   "execution_count": 49,
   "metadata": {},
   "outputs": [],
   "source": [
    "df_africa = pd.read_csv('data/africa_processed_tweets.csv')"
   ]
  },
  {
   "cell_type": "code",
   "execution_count": 50,
   "metadata": {},
   "outputs": [
    {
     "data": {
      "text/plain": [
       "(28608, 16)"
      ]
     },
     "execution_count": 50,
     "metadata": {},
     "output_type": "execute_result"
    }
   ],
   "source": [
    "df_africa.shape"
   ]
  },
  {
   "cell_type": "code",
   "execution_count": 51,
   "metadata": {},
   "outputs": [
    {
     "data": {
      "text/html": [
       "<div>\n",
       "<style scoped>\n",
       "    .dataframe tbody tr th:only-of-type {\n",
       "        vertical-align: middle;\n",
       "    }\n",
       "\n",
       "    .dataframe tbody tr th {\n",
       "        vertical-align: top;\n",
       "    }\n",
       "\n",
       "    .dataframe thead th {\n",
       "        text-align: right;\n",
       "    }\n",
       "</style>\n",
       "<table border=\"1\" class=\"dataframe\">\n",
       "  <thead>\n",
       "    <tr style=\"text-align: right;\">\n",
       "      <th></th>\n",
       "      <th>statuses_coun</th>\n",
       "      <th>created_at</th>\n",
       "      <th>source</th>\n",
       "      <th>original_text</th>\n",
       "      <th>polarity</th>\n",
       "      <th>subjectivity</th>\n",
       "      <th>lang</th>\n",
       "      <th>favorite_count</th>\n",
       "      <th>retweet_count</th>\n",
       "      <th>original_author</th>\n",
       "      <th>followers_count</th>\n",
       "      <th>friends_count</th>\n",
       "      <th>possibly_sensitive</th>\n",
       "      <th>hashtags</th>\n",
       "      <th>user_mentions</th>\n",
       "      <th>place</th>\n",
       "    </tr>\n",
       "  </thead>\n",
       "  <tbody>\n",
       "    <tr>\n",
       "      <th>0</th>\n",
       "      <td>888</td>\n",
       "      <td>Wed Aug 03 20:19:13 +0000 2022</td>\n",
       "      <td>&lt;a href=\"http://twitter.com/download/android\" ...</td>\n",
       "      <td>#Pelosi airplane landed safely in #Taiwan 🇹🇼  ...</td>\n",
       "      <td>0.300000</td>\n",
       "      <td>0.203571</td>\n",
       "      <td>en</td>\n",
       "      <td>697</td>\n",
       "      <td>0</td>\n",
       "      <td>DzCritical</td>\n",
       "      <td>318</td>\n",
       "      <td>373</td>\n",
       "      <td>NaN</td>\n",
       "      <td>[{'text': 'Pelosi', 'indices': [0, 7]}, {'text...</td>\n",
       "      <td>[]</td>\n",
       "      <td>Algérie</td>\n",
       "    </tr>\n",
       "    <tr>\n",
       "      <th>1</th>\n",
       "      <td>1597</td>\n",
       "      <td>Tue Aug 02 15:24:42 +0000 2022</td>\n",
       "      <td>&lt;a href=\"https://mobile.twitter.com\" rel=\"nofo...</td>\n",
       "      <td>Watch the video of the beginning of the Chines...</td>\n",
       "      <td>0.000000</td>\n",
       "      <td>0.000000</td>\n",
       "      <td>en</td>\n",
       "      <td>2160</td>\n",
       "      <td>0</td>\n",
       "      <td>toopsat</td>\n",
       "      <td>764</td>\n",
       "      <td>144</td>\n",
       "      <td>False</td>\n",
       "      <td>[{'text': 'Pelosi', 'indices': [149, 156]}, {'...</td>\n",
       "      <td>[]</td>\n",
       "      <td>NaN</td>\n",
       "    </tr>\n",
       "    <tr>\n",
       "      <th>2</th>\n",
       "      <td>2293</td>\n",
       "      <td>Tue Aug 02 15:02:35 +0000 2022</td>\n",
       "      <td>&lt;a href=\"http://twitter.com/download/android\" ...</td>\n",
       "      <td>#Pelosi \\n#Taipei \\n#taiwan\\n#XiJinping \\n#Chi...</td>\n",
       "      <td>0.000000</td>\n",
       "      <td>0.000000</td>\n",
       "      <td>en</td>\n",
       "      <td>10841</td>\n",
       "      <td>0</td>\n",
       "      <td>NassimaLilEmy</td>\n",
       "      <td>64</td>\n",
       "      <td>47</td>\n",
       "      <td>False</td>\n",
       "      <td>[{'text': 'Pelosi', 'indices': [0, 7]}, {'text...</td>\n",
       "      <td>[]</td>\n",
       "      <td>Algérie</td>\n",
       "    </tr>\n",
       "    <tr>\n",
       "      <th>3</th>\n",
       "      <td>44</td>\n",
       "      <td>Mon Aug 01 13:51:42 +0000 2022</td>\n",
       "      <td>&lt;a href=\"http://twitter.com/download/android\" ...</td>\n",
       "      <td>#HOBIPALOOZA #LaAcademiaExpulsion #WEURO2022 #...</td>\n",
       "      <td>0.433333</td>\n",
       "      <td>0.733333</td>\n",
       "      <td>en</td>\n",
       "      <td>280</td>\n",
       "      <td>0</td>\n",
       "      <td>d_dhayae</td>\n",
       "      <td>60</td>\n",
       "      <td>463</td>\n",
       "      <td>False</td>\n",
       "      <td>[{'text': 'HOBIPALOOZA', 'indices': [0, 12]}, ...</td>\n",
       "      <td>[]</td>\n",
       "      <td>Chlef</td>\n",
       "    </tr>\n",
       "  </tbody>\n",
       "</table>\n",
       "</div>"
      ],
      "text/plain": [
       "   statuses_coun                      created_at  \\\n",
       "0            888  Wed Aug 03 20:19:13 +0000 2022   \n",
       "1           1597  Tue Aug 02 15:24:42 +0000 2022   \n",
       "2           2293  Tue Aug 02 15:02:35 +0000 2022   \n",
       "3             44  Mon Aug 01 13:51:42 +0000 2022   \n",
       "\n",
       "                                              source  \\\n",
       "0  <a href=\"http://twitter.com/download/android\" ...   \n",
       "1  <a href=\"https://mobile.twitter.com\" rel=\"nofo...   \n",
       "2  <a href=\"http://twitter.com/download/android\" ...   \n",
       "3  <a href=\"http://twitter.com/download/android\" ...   \n",
       "\n",
       "                                       original_text  polarity  subjectivity  \\\n",
       "0  #Pelosi airplane landed safely in #Taiwan 🇹🇼  ...  0.300000      0.203571   \n",
       "1  Watch the video of the beginning of the Chines...  0.000000      0.000000   \n",
       "2  #Pelosi \\n#Taipei \\n#taiwan\\n#XiJinping \\n#Chi...  0.000000      0.000000   \n",
       "3  #HOBIPALOOZA #LaAcademiaExpulsion #WEURO2022 #...  0.433333      0.733333   \n",
       "\n",
       "  lang  favorite_count  retweet_count original_author  followers_count  \\\n",
       "0   en             697              0      DzCritical              318   \n",
       "1   en            2160              0         toopsat              764   \n",
       "2   en           10841              0   NassimaLilEmy               64   \n",
       "3   en             280              0        d_dhayae               60   \n",
       "\n",
       "   friends_count possibly_sensitive  \\\n",
       "0            373                NaN   \n",
       "1            144              False   \n",
       "2             47              False   \n",
       "3            463              False   \n",
       "\n",
       "                                            hashtags user_mentions  \\\n",
       "0  [{'text': 'Pelosi', 'indices': [0, 7]}, {'text...            []   \n",
       "1  [{'text': 'Pelosi', 'indices': [149, 156]}, {'...            []   \n",
       "2  [{'text': 'Pelosi', 'indices': [0, 7]}, {'text...            []   \n",
       "3  [{'text': 'HOBIPALOOZA', 'indices': [0, 12]}, ...            []   \n",
       "\n",
       "                            place  \n",
       "0                         Algérie  \n",
       "1                             NaN  \n",
       "2                         Algérie  \n",
       "3  Chlef                           "
      ]
     },
     "execution_count": 51,
     "metadata": {},
     "output_type": "execute_result"
    }
   ],
   "source": [
    "df_africa.head(4)"
   ]
  },
  {
   "cell_type": "code",
   "execution_count": 52,
   "metadata": {
    "scrolled": false
   },
   "outputs": [
    {
     "name": "stdout",
     "output_type": "stream",
     "text": [
      "<class 'pandas.core.frame.DataFrame'>\n",
      "RangeIndex: 28608 entries, 0 to 28607\n",
      "Data columns (total 16 columns):\n",
      " #   Column              Non-Null Count  Dtype  \n",
      "---  ------              --------------  -----  \n",
      " 0   statuses_coun       28608 non-null  int64  \n",
      " 1   created_at          28608 non-null  object \n",
      " 2   source              28608 non-null  object \n",
      " 3   original_text       28608 non-null  object \n",
      " 4   polarity            28608 non-null  float64\n",
      " 5   subjectivity        28608 non-null  float64\n",
      " 6   lang                28608 non-null  object \n",
      " 7   favorite_count      28608 non-null  int64  \n",
      " 8   retweet_count       28608 non-null  int64  \n",
      " 9   original_author     28608 non-null  object \n",
      " 10  followers_count     28608 non-null  int64  \n",
      " 11  friends_count       28608 non-null  int64  \n",
      " 12  possibly_sensitive  22148 non-null  object \n",
      " 13  hashtags            28608 non-null  object \n",
      " 14  user_mentions       28608 non-null  object \n",
      " 15  place               28099 non-null  object \n",
      "dtypes: float64(2), int64(5), object(9)\n",
      "memory usage: 3.5+ MB\n"
     ]
    }
   ],
   "source": [
    "# .info() Gives a quick look at the data in the datafarme shape, datatypes and missing data\n",
    "\n",
    "df_africa.info()"
   ]
  },
  {
   "cell_type": "code",
   "execution_count": 53,
   "metadata": {},
   "outputs": [],
   "source": [
    "# drop duplicates\n",
    "\n",
    "df_africa.drop_duplicates(inplace=True)\n",
    "\n",
    "\n",
    "# drop tweets that are from unknown locations\n",
    "\n",
    "df_africa.dropna(subset=['place'], inplace=True)\n",
    "\n",
    "\n",
    "# languages: all the tweets are in english\n",
    "\n",
    "df_africa = df_africa[df_africa['lang'] == 'en']"
   ]
  },
  {
   "cell_type": "code",
   "execution_count": 54,
   "metadata": {},
   "outputs": [],
   "source": [
    "# reset the indices to start from 0, 1, ...\n",
    "\n",
    "df_africa.reset_index(drop=True, inplace=True)"
   ]
  },
  {
   "cell_type": "code",
   "execution_count": 55,
   "metadata": {},
   "outputs": [
    {
     "data": {
      "text/html": [
       "<div>\n",
       "<style scoped>\n",
       "    .dataframe tbody tr th:only-of-type {\n",
       "        vertical-align: middle;\n",
       "    }\n",
       "\n",
       "    .dataframe tbody tr th {\n",
       "        vertical-align: top;\n",
       "    }\n",
       "\n",
       "    .dataframe thead th {\n",
       "        text-align: right;\n",
       "    }\n",
       "</style>\n",
       "<table border=\"1\" class=\"dataframe\">\n",
       "  <thead>\n",
       "    <tr style=\"text-align: right;\">\n",
       "      <th></th>\n",
       "      <th>statuses_coun</th>\n",
       "      <th>polarity</th>\n",
       "      <th>subjectivity</th>\n",
       "      <th>favorite_count</th>\n",
       "      <th>retweet_count</th>\n",
       "      <th>followers_count</th>\n",
       "      <th>friends_count</th>\n",
       "    </tr>\n",
       "  </thead>\n",
       "  <tbody>\n",
       "    <tr>\n",
       "      <th>count</th>\n",
       "      <td>6.837000e+03</td>\n",
       "      <td>6837.000000</td>\n",
       "      <td>6837.000000</td>\n",
       "      <td>6837.000000</td>\n",
       "      <td>6837.000000</td>\n",
       "      <td>6.837000e+03</td>\n",
       "      <td>6837.000000</td>\n",
       "    </tr>\n",
       "    <tr>\n",
       "      <th>mean</th>\n",
       "      <td>4.151174e+04</td>\n",
       "      <td>0.106806</td>\n",
       "      <td>0.315418</td>\n",
       "      <td>12433.744625</td>\n",
       "      <td>3.275121</td>\n",
       "      <td>3.130600e+04</td>\n",
       "      <td>1547.534884</td>\n",
       "    </tr>\n",
       "    <tr>\n",
       "      <th>std</th>\n",
       "      <td>1.991647e+05</td>\n",
       "      <td>0.271142</td>\n",
       "      <td>0.316772</td>\n",
       "      <td>35546.162561</td>\n",
       "      <td>33.459795</td>\n",
       "      <td>1.318800e+05</td>\n",
       "      <td>4079.490161</td>\n",
       "    </tr>\n",
       "    <tr>\n",
       "      <th>min</th>\n",
       "      <td>1.000000e+00</td>\n",
       "      <td>-1.000000</td>\n",
       "      <td>0.000000</td>\n",
       "      <td>0.000000</td>\n",
       "      <td>0.000000</td>\n",
       "      <td>0.000000e+00</td>\n",
       "      <td>0.000000</td>\n",
       "    </tr>\n",
       "    <tr>\n",
       "      <th>25%</th>\n",
       "      <td>6.270000e+02</td>\n",
       "      <td>0.000000</td>\n",
       "      <td>0.000000</td>\n",
       "      <td>330.000000</td>\n",
       "      <td>0.000000</td>\n",
       "      <td>1.460000e+02</td>\n",
       "      <td>146.000000</td>\n",
       "    </tr>\n",
       "    <tr>\n",
       "      <th>50%</th>\n",
       "      <td>3.452000e+03</td>\n",
       "      <td>0.000000</td>\n",
       "      <td>0.262500</td>\n",
       "      <td>1893.000000</td>\n",
       "      <td>0.000000</td>\n",
       "      <td>5.580000e+02</td>\n",
       "      <td>502.000000</td>\n",
       "    </tr>\n",
       "    <tr>\n",
       "      <th>75%</th>\n",
       "      <td>2.069400e+04</td>\n",
       "      <td>0.225000</td>\n",
       "      <td>0.535714</td>\n",
       "      <td>7843.000000</td>\n",
       "      <td>1.000000</td>\n",
       "      <td>3.134000e+03</td>\n",
       "      <td>1833.000000</td>\n",
       "    </tr>\n",
       "    <tr>\n",
       "      <th>max</th>\n",
       "      <td>2.761099e+06</td>\n",
       "      <td>1.000000</td>\n",
       "      <td>1.000000</td>\n",
       "      <td>500598.000000</td>\n",
       "      <td>1460.000000</td>\n",
       "      <td>1.427930e+06</td>\n",
       "      <td>103751.000000</td>\n",
       "    </tr>\n",
       "  </tbody>\n",
       "</table>\n",
       "</div>"
      ],
      "text/plain": [
       "       statuses_coun     polarity  subjectivity  favorite_count  \\\n",
       "count   6.837000e+03  6837.000000   6837.000000     6837.000000   \n",
       "mean    4.151174e+04     0.106806      0.315418    12433.744625   \n",
       "std     1.991647e+05     0.271142      0.316772    35546.162561   \n",
       "min     1.000000e+00    -1.000000      0.000000        0.000000   \n",
       "25%     6.270000e+02     0.000000      0.000000      330.000000   \n",
       "50%     3.452000e+03     0.000000      0.262500     1893.000000   \n",
       "75%     2.069400e+04     0.225000      0.535714     7843.000000   \n",
       "max     2.761099e+06     1.000000      1.000000   500598.000000   \n",
       "\n",
       "       retweet_count  followers_count  friends_count  \n",
       "count    6837.000000     6.837000e+03    6837.000000  \n",
       "mean        3.275121     3.130600e+04    1547.534884  \n",
       "std        33.459795     1.318800e+05    4079.490161  \n",
       "min         0.000000     0.000000e+00       0.000000  \n",
       "25%         0.000000     1.460000e+02     146.000000  \n",
       "50%         0.000000     5.580000e+02     502.000000  \n",
       "75%         1.000000     3.134000e+03    1833.000000  \n",
       "max      1460.000000     1.427930e+06  103751.000000  "
      ]
     },
     "execution_count": 55,
     "metadata": {},
     "output_type": "execute_result"
    }
   ],
   "source": [
    "# get some descriptive statistics on the data\n",
    "\n",
    "df_africa.describe()"
   ]
  },
  {
   "cell_type": "code",
   "execution_count": 58,
   "metadata": {
    "scrolled": false
   },
   "outputs": [
    {
     "data": {
      "text/plain": [
       "Lagos, Nigeria                 764\n",
       "Nigeria                        604\n",
       "universe center                389\n",
       "Nairobi, Kenya                 278\n",
       "United Arab Emirates           271\n",
       "Global South                   193\n",
       "Saudi Arabia                   180\n",
       "South Africa                   132\n",
       "Dubai, United Arab Emirates    129\n",
       "Ghana                          128\n",
       "Abuja, Nigeria                 108\n",
       "Karachi, Pakistan              106\n",
       "Dubai                           98\n",
       "Accra, Ghana                    98\n",
       "Johannesburg, South Africa      77\n",
       "Lagos                           68\n",
       "Greater Accra, Ghana            65\n",
       "Kampala, Uganda                 62\n",
       "Petach Tikva                    57\n",
       "Pretoria, South Africa          50\n",
       "Name: place, dtype: int64"
      ]
     },
     "execution_count": 58,
     "metadata": {},
     "output_type": "execute_result"
    }
   ],
   "source": [
    "\"\"\"\n",
    "df_africa.drop(columns = ['statuses_coun', 'polarity', 'subjectivity', 'favorite_count', 'retweet_count', \n",
    "                   'followers_count', 'friends_count']).describe()\n",
    "\"\"\"\n",
    "\n",
    "#most frequent locations\n",
    "\n",
    "df_africa['place'].value_counts().head(20) # there are values from KSA, UAE, .. need to remove them first"
   ]
  },
  {
   "cell_type": "markdown",
   "metadata": {},
   "source": [
    "3. Clean the text"
   ]
  },
  {
   "cell_type": "code",
   "execution_count": 59,
   "metadata": {},
   "outputs": [
    {
     "data": {
      "text/plain": [
       "0       #Pelosi airplane landed safely in #Taiwan 🇹🇼  ...\n",
       "1       #Pelosi \\n#Taipei \\n#taiwan\\n#XiJinping \\n#Chi...\n",
       "2       #HOBIPALOOZA #LaAcademiaExpulsion #WEURO2022 #...\n",
       "3       #Pelosi\\n#china\\nChina Time ✌️ https://t.co/tE...\n",
       "4       V382 Intro Logo Animation Blue Smoke 💙\\n\\nIf y...\n",
       "                              ...                        \n",
       "6832    Download Gold Tik Tok app 2022 | How to instal...\n",
       "6833    The US and China out there in the china sea pl...\n",
       "6834    Wheels down Taipei\\n#Pelosi #SPAR19 https://t....\n",
       "6835    Final approach to Taipei\\n#Pelosi #SPAR19 http...\n",
       "6836    Where is Paul #Pelosi today?\\n\\nAsking for a f...\n",
       "Name: original_text, Length: 6837, dtype: object"
      ]
     },
     "execution_count": 59,
     "metadata": {},
     "output_type": "execute_result"
    }
   ],
   "source": [
    "df_africa['original_text']"
   ]
  },
  {
   "cell_type": "code",
   "execution_count": 60,
   "metadata": {},
   "outputs": [],
   "source": [
    "df_africa['clean_text'] = df_africa['original_text'].astype(str)\n",
    "df_africa['clean_text'] = df_africa['clean_text'].apply(lambda x: x.lower())\n",
    "df_africa['clean_text']= df_africa['clean_text'].apply(lambda x: x.translate(str.maketrans(' ', ' ', string.punctuation)))"
   ]
  },
  {
   "cell_type": "code",
   "execution_count": 61,
   "metadata": {},
   "outputs": [],
   "source": [
    "blob_list = [TextBlob(x) for x in df_africa['clean_text']]\n",
    "\n",
    "df_africa['cln_polarity'] = [x.sentiment.polarity for x in blob_list]\n",
    "df_africa['cln_subjectivity']= [x.sentiment.subjectivity for x in blob_list]"
   ]
  },
  {
   "cell_type": "code",
   "execution_count": 62,
   "metadata": {
    "scrolled": false
   },
   "outputs": [
    {
     "data": {
      "image/png": "[encoded data removed]",
      "text/plain": [
       "<Figure size 1008x720 with 1 Axes>"
      ]
     },
     "metadata": {},
     "output_type": "display_data"
    }
   ],
   "source": [
    "df_africa[\"sentiment\"] = df_africa[\"cln_polarity\"].apply(sentiment_text)\n",
    "\n",
    "# Distribution of sentiments across all the tweets.\n",
    "sns.set(rc={'figure.figsize':(14,10)})\n",
    "df_africa.sentiment.value_counts().sort_index().plot(kind='pie', \n",
    "                                                     autopct='%1.0f%%', \n",
    "                                                     colors=[\"tab:red\", \"tab:gray\", \"tab:green\"], \n",
    "                                                     textprops={'fontsize': 20})\n",
    "plt.title(\"Sentiment: African Tweets\", fontsize= 20)\n",
    "plt.savefig(\"africa_sentiment.jpg\")\n",
    "\n"
   ]
  },
  {
   "cell_type": "code",
   "execution_count": null,
   "metadata": {},
   "outputs": [],
   "source": []
  }
 ],
 "metadata": {
  "kernelspec": {
   "display_name": "Python 3",
   "language": "python",
   "name": "python3"
  },
  "language_info": {
   "codemirror_mode": {
    "name": "ipython",
    "version": 3
   },
   "file_extension": ".py",
   "mimetype": "text/x-python",
   "name": "python",
   "nbconvert_exporter": "python",
   "pygments_lexer": "ipython3",
   "version": "3.8.5"
  }
 },
 "nbformat": 4,
 "nbformat_minor": 4
}
